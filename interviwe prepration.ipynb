{
 "cells": [
  {
   "cell_type": "code",
   "execution_count": null,
   "id": "3ae06b44",
   "metadata": {},
   "outputs": [],
   "source": [
    "what is list?\n",
    "what is tuple?\n",
    "Difference between reverse and reversed?\n",
    "Difference between copy and deep copy?\n",
    "How to check whether the list is empty or not?\n",
    "How to concatenate two lists?\n",
    "difference between count and index ?\n",
    "explain loop cotrol statement?\n",
    "explain for else loop?\n",
    "difference between remove and discard?\n",
    "difference between del and clear?\n",
    "differeance between intersection and intersection_update?\n",
    "differeance between differance and differance_update()?\n",
    "differeance between symatric_differance and symmatric_differance_update?\n",
    "what is fromkey?\n",
    "what is setdefulte?"
   ]
  },
  {
   "cell_type": "code",
   "execution_count": 2,
   "id": "4819520c",
   "metadata": {},
   "outputs": [
    {
     "data": {
      "text/plain": [
       "[54, 42, 9, 8, 7, 6, 3, 3, 1]"
      ]
     },
     "execution_count": 2,
     "metadata": {},
     "output_type": "execute_result"
    }
   ],
   "source": [
    "list1 = [1,6,54,3,7,8,9,3,42]\n",
    "list1.sort(reverse = True)\n",
    "list1"
   ]
  },
  {
   "cell_type": "code",
   "execution_count": 5,
   "id": "efec1559",
   "metadata": {},
   "outputs": [
    {
     "data": {
      "text/plain": [
       "['a', 'b', 'd', 'g', 'r']"
      ]
     },
     "execution_count": 5,
     "metadata": {},
     "output_type": "execute_result"
    }
   ],
   "source": [
    "# 1. Python program to sort Python Dictionaries by Keys\n",
    "dict1 = {\"a\": 4,\"b\":7,\"g\":8,\"r\":2,\"d\":9}\n",
    "dict2 = sorted(dict1)\n",
    "dict2\n"
   ]
  },
  {
   "cell_type": "code",
   "execution_count": 7,
   "id": "4d7a4a71",
   "metadata": {},
   "outputs": [
    {
     "data": {
      "text/plain": [
       "[2, 4, 7, 8, 9]"
      ]
     },
     "execution_count": 7,
     "metadata": {},
     "output_type": "execute_result"
    }
   ],
   "source": [
    "# 2. Python program to sort Python Dictionaries by Values\n",
    "dict1 = {\"a\": 4,\"b\":7,\"g\":8,\"r\":2,\"d\":9}\n",
    "sorted(dict1.values())\n"
   ]
  },
  {
   "cell_type": "code",
   "execution_count": 12,
   "id": "30f1aa1e",
   "metadata": {},
   "outputs": [
    {
     "name": "stdout",
     "output_type": "stream",
     "text": [
      "29\n"
     ]
    }
   ],
   "source": [
    "#3. Python program to find the sum of all items in a dictionary\n",
    "dict1 = {\"a\": 4,\"b\":5,\"g\":8,\"r\":2,\"d\":10}\n",
    "sum1 = 0\n",
    "for i in dict1.values():\n",
    "    sum1 += i\n",
    "print(sum1)"
   ]
  },
  {
   "cell_type": "code",
   "execution_count": 15,
   "id": "5445b3fe",
   "metadata": {},
   "outputs": [
    {
     "data": {
      "text/plain": [
       "('d', 10)"
      ]
     },
     "execution_count": 15,
     "metadata": {},
     "output_type": "execute_result"
    }
   ],
   "source": [
    "#4. Python program to remove a key from a dictionary\n",
    "dict1 = {\"a\": 4,\"b\":5,\"g\":8,\"r\":2,\"d\":10}\n",
    "dict1.popitem()"
   ]
  },
  {
   "cell_type": "code",
   "execution_count": 16,
   "id": "669093cc",
   "metadata": {},
   "outputs": [],
   "source": [
    "# 5. Python program to merge two Dictionaries\n",
    "dict1 = {\"a\": 4,\"b\":5,\"g\":8,\"r\":2,\"d\":10}\n",
    "dict2 ={\"z\": 101,\"y\":102,\"x\":105}\n",
    "dict1.update(dict2)"
   ]
  },
  {
   "cell_type": "code",
   "execution_count": 17,
   "id": "132bd841",
   "metadata": {},
   "outputs": [
    {
     "data": {
      "text/plain": [
       "{'a': 4, 'b': 5, 'g': 8, 'r': 2, 'd': 10, 'z': 101, 'y': 102, 'x': 105}"
      ]
     },
     "execution_count": 17,
     "metadata": {},
     "output_type": "execute_result"
    }
   ],
   "source": [
    "dict1"
   ]
  },
  {
   "cell_type": "code",
   "execution_count": 26,
   "id": "cefc882a",
   "metadata": {},
   "outputs": [
    {
     "name": "stdout",
     "output_type": "stream",
     "text": [
      "{'x': 10, 'y': 8, 'a': 6, 'b': 4}\n"
     ]
    }
   ],
   "source": [
    "def Merge(dict1, dict2):\n",
    "    res = dict1 | dict2\n",
    "    return res\n",
    "       \n",
    "# Driver code\n",
    "dict1 = {'x': 10, 'y': 8}\n",
    "dict2 = {'a': 6, 'b': 4}\n",
    "dict3 = Merge(dict1, dict2)\n",
    "print(dict3)"
   ]
  },
  {
   "cell_type": "code",
   "execution_count": 33,
   "id": "d1caf9a5",
   "metadata": {},
   "outputs": [
    {
     "name": "stdout",
     "output_type": "stream",
     "text": [
      "program to find even or odd number from : \n",
      " [1, 20, 3, 40, 5, 6, 7, 11, 12, 155, 46, 84]\n"
     ]
    },
    {
     "data": {
      "text/plain": [
       "([20, 40, 6, 12, 46, 84], [1, 3, 5, 7, 11, 155])"
      ]
     },
     "execution_count": 33,
     "metadata": {},
     "output_type": "execute_result"
    }
   ],
   "source": [
    "l1 = [1,20,3,40,5,6,7,11,12,155,46,84]\n",
    "def get_e_o_num(a):\n",
    "    print(\"program to find even or odd number from : \\n\",a)\n",
    "    even_n = [i for i in a if i%2== 0]\n",
    "    odd_n = [i for i in a if i%2 == 1]\n",
    "    return even_n,odd_n\n",
    "result = get_e_o_num(l1)   \n",
    "result"
   ]
  },
  {
   "cell_type": "code",
   "execution_count": 32,
   "id": "1560c1e1",
   "metadata": {},
   "outputs": [
    {
     "data": {
      "text/plain": [
       "([20, 40, 6, 12, 46, 84], [1, 3, 5, 7, 11, 155])"
      ]
     },
     "execution_count": 32,
     "metadata": {},
     "output_type": "execute_result"
    }
   ],
   "source": [
    "result"
   ]
  },
  {
   "cell_type": "code",
   "execution_count": 35,
   "id": "c570b9be",
   "metadata": {},
   "outputs": [
    {
     "name": "stdout",
     "output_type": "stream",
     "text": [
      "enter your percentage:34\n",
      "According to the percentage your, \n",
      "Grade: E\n"
     ]
    }
   ],
   "source": [
    "percentage = int(input(\"enter your percentage:\"))\n",
    "print(\"According to the percentage your, \")\n",
    "if percentage >= 90:\n",
    "    print(\"Grade: A\")\n",
    "elif percentage >= 80 and percentage < 90:\n",
    "    print(\"Grade: B\")\n",
    "elif percentage >= 70 and percentage < 80:\n",
    "    print(\"Grade: C\")\n",
    "elif percentage >= 60 and percentage < 70:\n",
    "    print(\"Grade: D\")\n",
    "else:\n",
    "    print(\"Grade: E\")"
   ]
  },
  {
   "cell_type": "code",
   "execution_count": 41,
   "id": "0b858456",
   "metadata": {},
   "outputs": [
    {
     "name": "stdout",
     "output_type": "stream",
     "text": [
      "enter %age:23\n",
      "According to the percentage your, \n",
      "Grade: E\n"
     ]
    }
   ],
   "source": [
    "def percent(percentage):\n",
    "    print(\"According to the percentage your, \")\n",
    "    if percentage >= 90:\n",
    "        print(\"Grade: A\")\n",
    "    elif percentage >= 80 and percentage < 90:\n",
    "        print(\"Grade: B\")\n",
    "    elif percentage >= 70 and percentage < 80:\n",
    "        print(\"Grade: C\")\n",
    "    elif percentage >= 60 and percentage < 70:\n",
    "        print(\"Grade: D\")\n",
    "    else:\n",
    "        print(\"Grade: E\")\n",
    "A =int(input(\"enter %age:\"))\n",
    "percent(A)"
   ]
  },
  {
   "cell_type": "code",
   "execution_count": 44,
   "id": "82471ed9",
   "metadata": {},
   "outputs": [
    {
     "name": "stdout",
     "output_type": "stream",
     "text": [
      "zerl\n",
      "Mirrored value:  None\n"
     ]
    }
   ],
   "source": [
    "def MirrorChar(string,k):\n",
    " \n",
    "    # create dictionary\n",
    "    order = 'abcdefghijklmnopqrstuvwxyz'\n",
    "    reverse = 'zyxwvutsrqponmlkjihgfedcba'\n",
    "    dictChars = dict(zip(order,reverse))\n",
    " \n",
    "    # divide string at k    \n",
    "    pre = string[0:k-1]\n",
    "    suffix = string[k-1:]\n",
    "    mirror = ''\n",
    " \n",
    "    # change suffix into mirror char\n",
    "    for i in range( len(suffix)):\n",
    "         mirror = mirror + dictChars[suffix[i]]\n",
    " \n",
    "    # join prefix and mirrored part\n",
    "    print (pre+mirror)\n",
    "          \n",
    "st = 'zero'\n",
    "k = 4\n",
    "print(\"Mirrored value: \",MirrorChar(st,k))\n",
    "\n"
   ]
  },
  {
   "cell_type": "code",
   "execution_count": 45,
   "id": "f3fbc7bf",
   "metadata": {},
   "outputs": [
    {
     "name": "stdout",
     "output_type": "stream",
     "text": [
      "pytslm\n",
      "Mirrored value:  None\n"
     ]
    }
   ],
   "source": [
    "def MirrorChar(string,k):\n",
    " \n",
    "    # create dictionary\n",
    "    order = 'abcdefghijklmnopqrstuvwxyz'\n",
    "    reverse = 'zyxwvutsrqponmlkjihgfedcba'\n",
    "    dictChars = dict(zip(order,reverse))\n",
    " \n",
    "    # divide string at k    \n",
    "    pre = string[0:k-1]\n",
    "    suffix = string[k-1:]\n",
    "    mirror = ''\n",
    " \n",
    "    # change suffix into mirror char\n",
    "    for i in range( len(suffix)):\n",
    "         mirror = mirror + dictChars[suffix[i]]\n",
    " \n",
    "    # join prefix and mirrored part\n",
    "    print (pre+mirror)\n",
    "          \n",
    "st = 'python'\n",
    "k = 4\n",
    "print(\"Mirrored value: \",MirrorChar(st,k))"
   ]
  },
  {
   "cell_type": "code",
   "execution_count": null,
   "id": "13c92325",
   "metadata": {},
   "outputs": [],
   "source": [
    "def MirrorChar(string,k):\n",
    " \n",
    "    # create dictionary\n",
    "    order = 'abcdefghijklmnopqrstuvwxyz'\n",
    "    reverse = 'zyxwvutsrqponmlkjihgfedcba'\n",
    "    dictChars = dict(zip(order,reverse))\n",
    " \n",
    "    # divide string at k    \n",
    "    pre = string[0:k-1]\n",
    "    suffix = string[k-1:]\n",
    "    mirror = ''\n",
    " \n",
    "    # change suffix into mirror char\n",
    "    for i in range( len(suffix)):\n",
    "         mirror = mirror + dictChars[suffix[i]]\n",
    " \n",
    "    # join prefix and mirrored part\n",
    "    print (pre+mirror)\n",
    "          \n",
    "st = 'python'\n",
    "k = 4\n",
    "print(\"Mirrored value: \",MirrorChar(st,k))"
   ]
  },
  {
   "cell_type": "code",
   "execution_count": null,
   "id": "9a310583",
   "metadata": {},
   "outputs": [],
   "source": [
    "def MirrorChar(string,k):\n",
    " \n",
    "    # create dictionary\n",
    "    order = 'abcdefghijklmnopqrstuvwxyz'\n",
    "    reverse = 'zyxwvutsrqponmlkjihgfedcba'\n",
    "    dictChars = dict(zip(order,reverse))\n",
    " \n",
    "    # divide string at k    \n",
    "    pre = string[0:k-1]\n",
    "    suffix = string[k-1:]\n",
    "    mirror = ''\n",
    " \n",
    "    # change suffix into mirror char\n",
    "    for i in range( len(suffix)):\n",
    "         mirror = mirror + dictChars[suffix[i]]\n",
    " \n",
    "    # join prefix and mirrored part\n",
    "    print (pre+mirror)\n",
    "          \n",
    "st = 'python'\n",
    "k = 4\n",
    "print(\"Mirrored value: \",MirrorChar(st,k))"
   ]
  },
  {
   "cell_type": "code",
   "execution_count": null,
   "id": "3187993a",
   "metadata": {},
   "outputs": [],
   "source": [
    "#12. Python program to convert a list of Tuples into Dictionary\n",
    "list1 = [(0, 3), (1, 5), (2, 4), (3, 8), (4, 6)]"
   ]
  },
  {
   "cell_type": "code",
   "execution_count": 56,
   "id": "6adf4cb9",
   "metadata": {},
   "outputs": [
    {
     "name": "stdout",
     "output_type": "stream",
     "text": [
      "{0: [3], 1: [5], 2: [4], 3: [8], 4: [6]}\n"
     ]
    }
   ],
   "source": [
    "l = [(0, 3), (1, 5), (2, 4), (3, 8), (4, 6)]\n",
    "di = dict()\n",
    "for i,a in l:\n",
    "    di.setdefault(i,[]).append(a)\n",
    "print(di)\n",
    "    "
   ]
  },
  {
   "cell_type": "code",
   "execution_count": 47,
   "id": "03fc602e",
   "metadata": {},
   "outputs": [
    {
     "data": {
      "text/plain": [
       "{}"
      ]
     },
     "execution_count": 47,
     "metadata": {},
     "output_type": "execute_result"
    }
   ],
   "source": [
    "list1"
   ]
  },
  {
   "cell_type": "code",
   "execution_count": 48,
   "id": "c8859b81",
   "metadata": {},
   "outputs": [
    {
     "name": "stdout",
     "output_type": "stream",
     "text": [
      "{'Nakul': [93], 'Shivansh': [45], 'Samved': [65], 'Yash': [88], 'Vidit': [70], 'Pradeep': [52]}\n"
     ]
    }
   ],
   "source": [
    "list_1=[(\"Nakul\",93), (\"Shivansh\",45), (\"Samved\",65),\n",
    "           (\"Yash\",88), (\"Vidit\",70), (\"Pradeep\",52)]\n",
    "dict_1=dict()\n",
    "  \n",
    "for student,score in list_1:\n",
    "    dict_1.setdefault(student, []).append(score)\n",
    "print(dict_1)"
   ]
  },
  {
   "cell_type": "code",
   "execution_count": 52,
   "id": "cd3b6bf8",
   "metadata": {},
   "outputs": [
    {
     "name": "stdout",
     "output_type": "stream",
     "text": [
      "The list of tuple is : \n",
      "[('bill', 11), ('rick', 45), ('john', 89), ('liv', 25)]\n",
      "After sorting, the list of tuple becomes : \n",
      "[('bill', 11), ('liv', 25), ('rick', 45), ('john', 89)]\n"
     ]
    }
   ],
   "source": [
    "#Sort a list of tuples by the second Item\n",
    "def tuple_sort(my_tuple):\n",
    "    return(sorted(my_tuple, key = lambda x: x[1]))\n",
    "my_tuple = [('bill', 11), ('rick', 45), ('john', 89), ('liv', 25)]\n",
    "print(\"The list of tuple is : \")\n",
    "print(my_tuple)\n",
    "print(\"After sorting, the list of tuple becomes : \")\n",
    "print(tuple_sort(my_tuple))"
   ]
  },
  {
   "cell_type": "code",
   "execution_count": 58,
   "id": "0a2b1e6a",
   "metadata": {},
   "outputs": [
    {
     "name": "stdout",
     "output_type": "stream",
     "text": [
      "{1: 2, 2: 2, 3: 3, 4: 3, 5: 2, 6: 4, 7: 3, 8: 2, 44: 1, 72: 1, 21: 1, 9: 1}\n"
     ]
    }
   ],
   "source": [
    "print(freq)"
   ]
  },
  {
   "cell_type": "code",
   "execution_count": 1,
   "id": "479e2f5f",
   "metadata": {},
   "outputs": [
    {
     "data": {
      "text/plain": [
       "{'a': 1, 'b': 2, 'c': 3, 'd': 4}"
      ]
     },
     "execution_count": 1,
     "metadata": {},
     "output_type": "execute_result"
    }
   ],
   "source": [
    "def l_t(l):\n",
    "    d={}\n",
    "    for i in l:\n",
    "        d.update({i})\n",
    "    return d\n",
    "l=[('a',1),('b',2),('c',3),('d',4)]\n",
    "l_t(l)"
   ]
  },
  {
   "cell_type": "code",
   "execution_count": null,
   "id": "2122c69f",
   "metadata": {},
   "outputs": [],
   "source": []
  }
 ],
 "metadata": {
  "kernelspec": {
   "display_name": "Python 3 (ipykernel)",
   "language": "python",
   "name": "python3"
  },
  "language_info": {
   "codemirror_mode": {
    "name": "ipython",
    "version": 3
   },
   "file_extension": ".py",
   "mimetype": "text/x-python",
   "name": "python",
   "nbconvert_exporter": "python",
   "pygments_lexer": "ipython3",
   "version": "3.10.2"
  }
 },
 "nbformat": 4,
 "nbformat_minor": 5
}
